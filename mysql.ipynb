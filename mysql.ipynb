{
 "cells": [
  {
   "cell_type": "code",
   "execution_count": 143,
   "id": "c78d5d67",
   "metadata": {},
   "outputs": [],
   "source": [
    "#!pip3 install mysql-connector-python"
   ]
  },
  {
   "cell_type": "code",
   "execution_count": 90,
   "id": "630ed889",
   "metadata": {},
   "outputs": [],
   "source": [
    "import mysql.connector\n",
    "import pandas as pd"
   ]
  },
  {
   "cell_type": "code",
   "execution_count": 91,
   "id": "614055f0",
   "metadata": {},
   "outputs": [],
   "source": [
    "# Connection creation\n",
    "serverIP            = \"localhost\"\n",
    "serverUser          = \"root\"  \n",
    "serverUserPwd       = \"qazwsx\"\n",
    "database = 'sakila'"
   ]
  },
  {
   "cell_type": "code",
   "execution_count": 92,
   "id": "1cea66ac",
   "metadata": {},
   "outputs": [],
   "source": [
    "def get_database_schema(serverIP, serverUser, serverUserPwd, database) -> pd.DataFrame():\n",
    "    \n",
    "    \"\"\" Function gets MySQL database schema \"\"\"\n",
    "    \n",
    "    #Connect to server\n",
    "    con = mysql.connector.connect(\n",
    "        host=serverIP,\n",
    "        port=3306,\n",
    "        user=serverUser,\n",
    "        password=serverUserPwd,\n",
    "        db=database\n",
    "    )\n",
    "    \n",
    "    #Get cursor\n",
    "    cur = con.cursor()\n",
    "    \n",
    "    cur.execute(\"SHOW TABLES\") \n",
    "    \n",
    "    #Print all tables avaliable in DB \n",
    "    tables = []\n",
    "    for (table_name,) in cur:\n",
    "        #print(table_name)\n",
    "        tables.append(table_name)\n",
    "        \n",
    "        \n",
    "    table_name ,col_names, col_format = [], [], []\n",
    "    for table in tables:\n",
    "        cur.execute(f\"\"\" SHOW COLUMNS FROM {table};\"\"\")  #same as: cur.execute(f\"\"\" DESCRIBE {tables}; \"\"\")\n",
    "        result = cur.fetchall()\n",
    "    \n",
    "        for i in result:\n",
    "            col_names.append(i[0])\n",
    "            col_format.append(i[1])\n",
    "            table_name.append(table)\n",
    "    \n",
    "    df = pd.DataFrame({'table':table_name, \n",
    "                   'cols':col_names,\n",
    "                   'format':col_format})\n",
    "    \n",
    "    return df"
   ]
  },
  {
   "cell_type": "code",
   "execution_count": 93,
   "id": "9cdea56a",
   "metadata": {},
   "outputs": [],
   "source": [
    "schema = get_database_schema(serverIP, serverUser, serverUserPwd , 'sakila')"
   ]
  },
  {
   "cell_type": "code",
   "execution_count": 94,
   "id": "86d4f06b",
   "metadata": {},
   "outputs": [],
   "source": [
    "#All tables avaliable in your database\n",
    "all_tables_list = list(schema['table'].unique())"
   ]
  },
  {
   "cell_type": "code",
   "execution_count": 95,
   "id": "09e5fe75",
   "metadata": {},
   "outputs": [],
   "source": [
    "def extract_schema_str(schema, table):\n",
    "    \"\"\" Extracts the schema in a form of string \"\"\"\n",
    "    str_ = ''\n",
    "    df = schema.loc[schema['table']== table]\n",
    "    \n",
    "    idx = 0\n",
    "    for i,item in df.iterrows():\n",
    "        if idx == 0:\n",
    "            str_ += df['table'][i]\n",
    "            str_ += '('\n",
    "        idx += 1\n",
    "        \n",
    "        str_ += df['cols'][i]\n",
    "        str_ += ','\n",
    "    \n",
    "    str_ = str_[:-1] + ')'\n",
    "    \n",
    "    return str_"
   ]
  },
  {
   "cell_type": "code",
   "execution_count": 66,
   "id": "55561a25",
   "metadata": {},
   "outputs": [
    {
     "name": "stdout",
     "output_type": "stream",
     "text": [
      "actor(actor_id,first_name,last_name,last_update)\n",
      "actor_info(actor_id,first_name,last_name,film_info)\n",
      "address(address_id,address,address2,district,city_id,postal_code,phone,location,last_update)\n",
      "biblioteczka(Id,Tytuł,Data_zakupu,Author)\n",
      "category(category_id,name,last_update)\n",
      "city(city_id,city,country_id,last_update)\n",
      "country(country_id,country,last_update)\n",
      "customer(customer_id,store_id,first_name,last_name,email,address_id,active,create_date,last_update)\n",
      "customer_list(ID,name,address,zip code,phone,city,country,notes,SID)\n",
      "film(film_id,title,description,release_year,language_id,original_language_id,rental_duration,rental_rate,length,replacement_cost,rating,special_features,last_update)\n",
      "film_actor(actor_id,film_id,last_update)\n",
      "film_category(film_id,category_id,last_update)\n",
      "film_list(FID,title,description,category,price,length,rating,actors)\n",
      "film_text(film_id,title,description)\n",
      "inventory(inventory_id,film_id,store_id,last_update)\n",
      "kursant(id,name,age,ocena)\n",
      "language(language_id,name,last_update)\n",
      "nicer_but_slower_film_list(FID,title,description,category,price,length,rating,actors)\n",
      "payment(payment_id,customer_id,staff_id,rental_id,amount,payment_date,last_update)\n",
      "rental(rental_id,rental_date,inventory_id,customer_id,return_date,staff_id,last_update)\n",
      "sales_by_film_category(category,total_sales)\n",
      "sales_by_store(store,manager,total_sales)\n",
      "staff(staff_id,first_name,last_name,address_id,picture,email,store_id,active,username,password,last_update)\n",
      "staff_list(ID,name,address,zip code,phone,city,country,SID)\n",
      "store(store_id,manager_staff_id,address_id,last_update)\n"
     ]
    }
   ],
   "source": [
    "for table in all_tables_list:\n",
    "    print(extract_schema_str(schema, table))"
   ]
  },
  {
   "cell_type": "markdown",
   "id": "00d54acd",
   "metadata": {},
   "source": [
    "# Example usage:"
   ]
  },
  {
   "cell_type": "code",
   "execution_count": 67,
   "id": "64c71535",
   "metadata": {},
   "outputs": [],
   "source": [
    "example_input = \"\"\" A query to list the countries \"\"\"\n",
    "database = \"sakila\""
   ]
  },
  {
   "cell_type": "code",
   "execution_count": 96,
   "id": "b58723d8",
   "metadata": {},
   "outputs": [],
   "source": [
    "def merge_userInput_schema(userInput, database) -> str():\n",
    "    \"\"\" Func. to merge user prompt and database schema \"\"\"\n",
    "    schema = get_database_schema(serverIP, serverUser, serverUserPwd , database)\n",
    "    #All tables avaliable in your database\n",
    "    all_tables_list = list(schema['table'].unique())\n",
    "    \n",
    "    \n",
    "    r_list = []\n",
    "    for table in all_tables_list:\n",
    "        r_list.append(extract_schema_str(schema, table))\n",
    "        \n",
    "    return print(f'MySQL schema: \\n\\n', r_list,'\\n\\n\\n','UserInput: ', userInput)\n",
    "        \n",
    "    "
   ]
  },
  {
   "cell_type": "code",
   "execution_count": 104,
   "id": "7fddc9d5",
   "metadata": {},
   "outputs": [
    {
     "name": "stdout",
     "output_type": "stream",
     "text": [
      "MySQL schema: \n",
      "\n",
      " ['actor(actor_id,first_name,last_name,last_update)', 'actor_info(actor_id,first_name,last_name,film_info)', 'address(address_id,address,address2,district,city_id,postal_code,phone,location,last_update)', 'biblioteczka(Id,Tytuł,Data_zakupu,Author)', 'category(category_id,name,last_update)', 'city(city_id,city,country_id,last_update)', 'country(country_id,country,last_update)', 'customer(customer_id,store_id,first_name,last_name,email,address_id,active,create_date,last_update)', 'customer_list(ID,name,address,zip code,phone,city,country,notes,SID)', 'film(film_id,title,description,release_year,language_id,original_language_id,rental_duration,rental_rate,length,replacement_cost,rating,special_features,last_update)', 'film_actor(actor_id,film_id,last_update)', 'film_category(film_id,category_id,last_update)', 'film_list(FID,title,description,category,price,length,rating,actors)', 'film_text(film_id,title,description)', 'inventory(inventory_id,film_id,store_id,last_update)', 'kursant(id,name,age,ocena)', 'language(language_id,name,last_update)', 'nicer_but_slower_film_list(FID,title,description,category,price,length,rating,actors)', 'payment(payment_id,customer_id,staff_id,rental_id,amount,payment_date,last_update)', 'rental(rental_id,rental_date,inventory_id,customer_id,return_date,staff_id,last_update)', 'sales_by_film_category(category,total_sales)', 'sales_by_store(store,manager,total_sales)', 'staff(staff_id,first_name,last_name,address_id,picture,email,store_id,active,username,password,last_update)', 'staff_list(ID,name,address,zip code,phone,city,country,SID)', 'store(store_id,manager_staff_id,address_id,last_update)'] \n",
      "\n",
      "\n",
      " UserInput:   A query to list the countries \n"
     ]
    }
   ],
   "source": [
    "merge_userInput_schema(example_input, 'sakila')"
   ]
  },
  {
   "cell_type": "code",
   "execution_count": null,
   "id": "c8ca8f76",
   "metadata": {},
   "outputs": [],
   "source": []
  }
 ],
 "metadata": {
  "kernelspec": {
   "display_name": "Python 3 (ipykernel)",
   "language": "python",
   "name": "python3"
  },
  "language_info": {
   "codemirror_mode": {
    "name": "ipython",
    "version": 3
   },
   "file_extension": ".py",
   "mimetype": "text/x-python",
   "name": "python",
   "nbconvert_exporter": "python",
   "pygments_lexer": "ipython3",
   "version": "3.8.13"
  }
 },
 "nbformat": 4,
 "nbformat_minor": 5
}
